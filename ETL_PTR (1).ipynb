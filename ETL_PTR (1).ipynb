{
  "cells": [
    {
      "cell_type": "code",
      "execution_count": null,
      "metadata": {
        "colab": {
          "base_uri": "https://localhost:8080/"
        },
        "id": "cS2gt3ASXQpz",
        "outputId": "2564ad02-d673-4529-93fd-33efd78b5523"
      },
      "outputs": [
        {
          "name": "stdout",
          "output_type": "stream",
          "text": [
            "Collecting pdfplumber\n",
            "  Downloading pdfplumber-0.11.6-py3-none-any.whl.metadata (42 kB)\n",
            "\u001b[?25l     \u001b[90m━━━━━━━━━━━━━━━━━━━━━━━━━━━━━━━━━━━━━━━━\u001b[0m \u001b[32m0.0/42.8 kB\u001b[0m \u001b[31m?\u001b[0m eta \u001b[36m-:--:--\u001b[0m\r\u001b[2K     \u001b[90m━━━━━━━━━━━━━━━━━━━━━━━━━━━━━━━━━━━━━━━━\u001b[0m \u001b[32m42.8/42.8 kB\u001b[0m \u001b[31m1.8 MB/s\u001b[0m eta \u001b[36m0:00:00\u001b[0m\n",
            "\u001b[?25hCollecting pdfminer.six==20250327 (from pdfplumber)\n",
            "  Downloading pdfminer_six-20250327-py3-none-any.whl.metadata (4.1 kB)\n",
            "Requirement already satisfied: Pillow>=9.1 in /usr/local/lib/python3.11/dist-packages (from pdfplumber) (11.2.1)\n",
            "Collecting pypdfium2>=4.18.0 (from pdfplumber)\n",
            "  Downloading pypdfium2-4.30.1-py3-none-manylinux_2_17_x86_64.manylinux2014_x86_64.whl.metadata (48 kB)\n",
            "\u001b[2K     \u001b[90m━━━━━━━━━━━━━━━━━━━━━━━━━━━━━━━━━━━━━━━━\u001b[0m \u001b[32m48.2/48.2 kB\u001b[0m \u001b[31m3.1 MB/s\u001b[0m eta \u001b[36m0:00:00\u001b[0m\n",
            "\u001b[?25hRequirement already satisfied: charset-normalizer>=2.0.0 in /usr/local/lib/python3.11/dist-packages (from pdfminer.six==20250327->pdfplumber) (3.4.2)\n",
            "Requirement already satisfied: cryptography>=36.0.0 in /usr/local/lib/python3.11/dist-packages (from pdfminer.six==20250327->pdfplumber) (43.0.3)\n",
            "Requirement already satisfied: cffi>=1.12 in /usr/local/lib/python3.11/dist-packages (from cryptography>=36.0.0->pdfminer.six==20250327->pdfplumber) (1.17.1)\n",
            "Requirement already satisfied: pycparser in /usr/local/lib/python3.11/dist-packages (from cffi>=1.12->cryptography>=36.0.0->pdfminer.six==20250327->pdfplumber) (2.22)\n",
            "Downloading pdfplumber-0.11.6-py3-none-any.whl (60 kB)\n",
            "\u001b[2K   \u001b[90m━━━━━━━━━━━━━━━━━━━━━━━━━━━━━━━━━━━━━━━━\u001b[0m \u001b[32m60.2/60.2 kB\u001b[0m \u001b[31m4.3 MB/s\u001b[0m eta \u001b[36m0:00:00\u001b[0m\n",
            "\u001b[?25hDownloading pdfminer_six-20250327-py3-none-any.whl (5.6 MB)\n",
            "\u001b[2K   \u001b[90m━━━━━━━━━━━━━━━━━━━━━━━━━━━━━━━━━━━━━━━━\u001b[0m \u001b[32m5.6/5.6 MB\u001b[0m \u001b[31m47.4 MB/s\u001b[0m eta \u001b[36m0:00:00\u001b[0m\n",
            "\u001b[?25hDownloading pypdfium2-4.30.1-py3-none-manylinux_2_17_x86_64.manylinux2014_x86_64.whl (2.9 MB)\n",
            "\u001b[2K   \u001b[90m━━━━━━━━━━━━━━━━━━━━━━━━━━━━━━━━━━━━━━━━\u001b[0m \u001b[32m2.9/2.9 MB\u001b[0m \u001b[31m70.5 MB/s\u001b[0m eta \u001b[36m0:00:00\u001b[0m\n",
            "\u001b[?25hInstalling collected packages: pypdfium2, pdfminer.six, pdfplumber\n",
            "Successfully installed pdfminer.six-20250327 pdfplumber-0.11.6 pypdfium2-4.30.1\n"
          ]
        }
      ],
      "source": [
        "pip install pdfplumber # pip install to get right system"
      ]
    },
    {
      "cell_type": "code",
      "execution_count": null,
      "metadata": {
        "colab": {
          "base_uri": "https://localhost:8080/"
        },
        "id": "5Uc-kBz0Idnj",
        "outputId": "f954d89f-80c5-4c8f-ac44-07c48aa86ce5"
      },
      "outputs": [
        {
          "name": "stdout",
          "output_type": "stream",
          "text": [
            "Requirement already satisfied: tqdm in /usr/local/lib/python3.11/dist-packages (4.67.1)\n"
          ]
        }
      ],
      "source": [
        "pip install tqdm # pip install to get right system"
      ]
    },
    {
      "cell_type": "code",
      "execution_count": null,
      "metadata": {
        "id": "jJUQ2meUITt1"
      },
      "outputs": [],
      "source": [
        "from tqdm import tqdm "
      ]
    },
    {
      "cell_type": "markdown",
      "metadata": {
        "id": "GlJAXH8RRxpo"
      },
      "source": [
        "# **Extract Portion of Project**"
      ]
    },
    {
      "cell_type": "code",
      "execution_count": 3,
      "metadata": {
        "id": "mBhvKN74RsO-"
      },
      "outputs": [],
      "source": [
        "import requests, zipfile, os\n",
        "from io import BytesIO\n",
        "\n",
        "def download_and_extract_ptr_zip(year=2025, out_dir=\"ptr_pdfs\"):\n",
        "    url = f\"https://disclosures-clerk.house.gov/public_disc/financial-pdfs/{year}FD.zip\"\n",
        "\n",
        "    # Create output directory if it doesn't exist\n",
        "    os.makedirs(out_dir, exist_ok=True)\n",
        "\n",
        "    print(f\"Downloading {url}...\")\n",
        "    response = requests.get(url)\n",
        "    if response.status_code != 200:\n",
        "        raise Exception(f\"Failed to download: {url}\")\n",
        "\n",
        "    print(\"Extracting ZIP contents...\")\n",
        "    with zipfile.ZipFile(BytesIO(response.content)) as zip_ref:\n",
        "        zip_ref.extractall(out_dir)\n",
        "\n",
        "    print(f\" Extracted to {out_dir}\")\n",
        "    return out_dir\n"
      ]
    },
    {
      "cell_type": "code",
      "execution_count": null,
      "metadata": {},
      "outputs": [],
      "source": [
        "import os\n",
        "import zipfile\n",
        "from io import BytesIO\n",
        "import requests\n",
        "\n",
        "def download_and_extract_ptr_zip(year):\n",
        "    url = f\"https://disclosures-clerk.house.gov/public_disc/financial-pdfs/{year}FD.zip\"\n",
        "    out_dir = r\"C:\\Users\\Edwin\\Desktop\\Project\\ptr_pdfs\"  \n",
        "\n",
        "    response = requests.get(url)\n",
        "    if response.status_code != 200:\n",
        "        raise Exception(f\"Failed to download: {url}\")\n",
        "\n",
        "    print(\"Extracting ZIP contents...\")\n",
        "    with zipfile.ZipFile(BytesIO(response.content)) as zip_ref:\n",
        "        zip_ref.extractall(out_dir)\n",
        "\n",
        "    print(f\" Extracted to {out_dir}\")\n",
        "    return out_dir\n"
      ]
    },
    {
      "cell_type": "code",
      "execution_count": 5,
      "metadata": {
        "colab": {
          "base_uri": "https://localhost:8080/"
        },
        "id": "_TR7FASwR_Ui",
        "outputId": "e130f3c2-7fbc-4d5e-b56c-eb861f6d73f1"
      },
      "outputs": [
        {
          "name": "stdout",
          "output_type": "stream",
          "text": [
            "Extracting ZIP contents...\n",
            "✅ Extracted to C:\\Users\\Edwin\\Desktop\\Project\\ptr_pdfs\n"
          ]
        }
      ],
      "source": [
        "folder = download_and_extract_ptr_zip(2025)\n"
      ]
    },
    {
      "cell_type": "markdown",
      "metadata": {
        "id": "EH6D_xwlSmeZ"
      },
      "source": [
        "## Now we are getting all the pdf file links from provided by the 2025 link so we have all the links to each pdf which has the ptr report for specific instance"
      ]
    },
    {
      "cell_type": "code",
      "execution_count": null,
      "metadata": {
        "colab": {
          "base_uri": "https://localhost:8080/"
        },
        "id": "31AnAyo4SIvo",
        "outputId": "7390f04d-c3b0-4ef9-9c6b-dc17345bd6fd"
      },
      "outputs": [
        {
          "name": "stdout",
          "output_type": "stream",
          "text": [
            "              First         Last StateDst FilingDate  \\\n",
            "1        Richard W.        Allen     GA12  1/16/2025   \n",
            "2        Richard W.        Allen     GA12  2/20/2025   \n",
            "3        Richard W.        Allen     GA12  3/12/2025   \n",
            "8              Jake  Auchincloss     MA04  2/21/2025   \n",
            "12  Donald Sternoff        Beyer     VA08   1/6/2025   \n",
            "\n",
            "                                              PDF_URL  \n",
            "1   https://disclosures-clerk.house.gov/public_dis...  \n",
            "2   https://disclosures-clerk.house.gov/public_dis...  \n",
            "3   https://disclosures-clerk.house.gov/public_dis...  \n",
            "8   https://disclosures-clerk.house.gov/public_dis...  \n",
            "12  https://disclosures-clerk.house.gov/public_dis...  \n"
          ]
        },
        {
          "name": "stderr",
          "output_type": "stream",
          "text": [
            "C:\\Users\\Edwin\\AppData\\Local\\Temp\\ipykernel_43080\\1866103336.py:10: SettingWithCopyWarning: \n",
            "A value is trying to be set on a copy of a slice from a DataFrame.\n",
            "Try using .loc[row_indexer,col_indexer] = value instead\n",
            "\n",
            "See the caveats in the documentation: https://pandas.pydata.org/pandas-docs/stable/user_guide/indexing.html#returning-a-view-versus-a-copy\n",
            "  df_ptrs[\"PDF_URL\"] = df_ptrs[\"DocID\"].astype(str).apply(\n"
          ]
        }
      ],
      "source": [
        "import pandas as pd\n",
        "\n",
        "# Load the TXT file \n",
        "df_meta = pd.read_csv(\"C:\\\\Users\\\\Edwin\\\\Desktop\\\\Project\\\\ptr_pdfs\\\\2025FD.txt\", sep=\"\\t\")\n",
        "\n",
        "# Filter only PTR (Periodic Transaction Reports)\n",
        "df_ptrs = df_meta[df_meta[\"FilingType\"] == \"P\"]\n",
        "\n",
        "# Build download URLs\n",
        "df_ptrs[\"PDF_URL\"] = df_ptrs[\"DocID\"].astype(str).apply(\n",
        "    lambda docid: f\"https://disclosures-clerk.house.gov/public_disc/ptr-pdfs/{docid}.pdf\"\n",
        ")\n",
        "\n",
        "# Preview\n",
        "print(df_ptrs[[\"First\", \"Last\", \"StateDst\", \"FilingDate\", \"PDF_URL\"]].head())\n"
      ]
    },
    {
      "cell_type": "markdown",
      "metadata": {
        "id": "EXPB_yA6TTmO"
      },
      "source": [
        "## Now getting all the PDf's by going through each url made from the previous queries/ code this will then get each individual ptr and load it"
      ]
    },
    {
      "cell_type": "code",
      "execution_count": null,
      "metadata": {
        "id": "3VGtybLgTE9k"
      },
      "outputs": [],
      "source": [
        "def download_ptr_pdfs(df, output_dir=\"ptr_pdfs\", year=2025):\n",
        "    os.makedirs(output_dir, exist_ok=True)\n",
        "\n",
        "    for _, row in tqdm(df.iterrows(), total=len(df), desc=\"Downloading PTR PDFs\"):\n",
        "        docid = str(row[\"DocID\"]).strip()\n",
        "        url = f\"https://disclosures-clerk.house.gov/public_disc/ptr-pdfs/2025/{docid}.pdf\"\n",
        "\n",
        "        filename = os.path.join(output_dir, f\"{docid}.pdf\")\n",
        "\n",
        "        if os.path.exists(filename):\n",
        "            continue\n",
        "\n",
        "        try:\n",
        "            headers = {\n",
        "                \"User-Agent\": \"Mozilla/5.0\",\n",
        "                \"Referer\": \"https://disclosures-clerk.house.gov/\"\n",
        "            }\n",
        "            response = requests.get(url, headers=headers, timeout=10)\n",
        "            if response.status_code == 200:\n",
        "                with open(filename, \"wb\") as f:\n",
        "                    f.write(response.content)\n",
        "            else:\n",
        "                print(f\" Failed: {url} ({response.status_code})\")\n",
        "        except Exception as e:\n",
        "            print(f\" Error for {url}: {e}\")\n",
        "\n"
      ]
    },
    {
      "cell_type": "code",
      "execution_count": 10,
      "metadata": {
        "colab": {
          "base_uri": "https://localhost:8080/"
        },
        "id": "7lAoRForTk18",
        "outputId": "84898ccc-d2c8-42c0-af94-5531520bcd95"
      },
      "outputs": [
        {
          "name": "stderr",
          "output_type": "stream",
          "text": [
            "Downloading PTR PDFs: 100%|██████████| 190/190 [00:35<00:00,  5.41it/s]\n"
          ]
        }
      ],
      "source": [
        "download_ptr_pdfs(df_ptrs)"
      ]
    },
    {
      "cell_type": "markdown",
      "metadata": {
        "id": "cy3UfEcyXA7e"
      },
      "source": [
        "# **Transform portion**"
      ]
    },
    {
      "cell_type": "markdown",
      "metadata": {
        "id": "n2Pk6HLKXZS1"
      },
      "source": [
        "## Want to extract all the pdfs and make it into a dataframe"
      ]
    },
    {
      "cell_type": "code",
      "execution_count": null,
      "metadata": {
        "id": "ktA7EaAWXFdX"
      },
      "outputs": [],
      "source": [
        "import pdfplumber\n",
        "import re\n",
        "import pandas as pd\n",
        "\n",
        "def extract_transactions_from_pdf(file_path):\n",
        "    try:\n",
        "        with pdfplumber.open(file_path) as pdf:\n",
        "            full_text = \"\\n\".join([page.extract_text() or \"\" for page in pdf.pages])\n",
        "    except Exception as e:\n",
        "        print(f\" Error reading {file_path}: {e}\")\n",
        "        return pd.DataFrame()  # Return empty DataFrame on failure\n",
        "\n",
        "    # Match transaction lines that start with P, S, or S (partial)\n",
        "    raw_chunks = re.split(r\"\\n(?=\\w.*?(P|S(?: \\(partial\\))?)\\s+\\d{2}/\\d{2}/\\d{4})\", full_text)\n",
        "\n",
        "    records = []\n",
        "    for chunk in raw_chunks:\n",
        "        lines = chunk.strip().split(\"\\n\")\n",
        "        try:\n",
        "            asset_line = lines[0]\n",
        "            transaction_line = lines[1]\n",
        "            amount_line = lines[2] if \"$\" in lines[2] else transaction_line.split()[-1]\n",
        "            source_keywords = [\"IRA\", \"401K\", \"Trust\", \"Spouse\", \"Dependent\", \"S O:\", \"F S:\"]\n",
        "            source_line = \" \".join([line for line in lines if any(kw in line for kw in source_keywords)])\n",
        "\n",
        "            # Match P, S, or S (partial)\n",
        "            match = re.search(r\"(P|S(?: \\(partial\\))?)\\s+(\\d{2}/\\d{2}/\\d{4})\\s+(\\d{2}/\\d{2}/\\d{4})\\s+(\\$[\\d,]+(?:\\s*-\\s*\\$[\\d,]+)?)\", transaction_line)\n",
        "            if match:\n",
        "                trans_type, date, notify_date, amount = match.groups()\n",
        "            else:\n",
        "                trans_type = date = notify_date = amount = None\n",
        "\n",
        "            records.append({\n",
        "                \"Asset\": asset_line.strip(),\n",
        "                \"Transaction Type\": trans_type,\n",
        "                \"Date\": date,\n",
        "                \"Notification Date\": notify_date,\n",
        "                \"Amount\": amount,\n",
        "                \"Source\": source_line.strip(),\n",
        "                \"File\": file_path.split(\"/\")[-1]\n",
        "            })\n",
        "        except:\n",
        "            continue\n",
        "\n",
        "    return pd.DataFrame(records)\n"
      ]
    },
    {
      "cell_type": "markdown",
      "metadata": {
        "id": "dIIVxjDeXhy6"
      },
      "source": [
        "## We are now looping through each file and make sure we get each one"
      ]
    },
    {
      "cell_type": "code",
      "execution_count": 12,
      "metadata": {
        "id": "Yk2anlVsXVkc"
      },
      "outputs": [],
      "source": [
        "import os\n",
        "\n",
        "def extract_all_pdfs_to_dataframe(pdf_folder=\"ptr_pdfs\"):\n",
        "    all_dfs = []\n",
        "    for file in os.listdir(pdf_folder):\n",
        "        if file.endswith(\".pdf\"):\n",
        "            file_path = os.path.join(pdf_folder, file)\n",
        "            df = extract_transactions_from_pdf(file_path)\n",
        "            if not df.empty:\n",
        "                all_dfs.append(df)\n",
        "\n",
        "    combined_df = pd.concat(all_dfs, ignore_index=True)\n",
        "    return combined_df\n"
      ]
    },
    {
      "cell_type": "markdown",
      "metadata": {
        "id": "e3cCtMiRXs9m"
      },
      "source": [
        "# Running the functions"
      ]
    },
    {
      "cell_type": "code",
      "execution_count": 13,
      "metadata": {
        "colab": {
          "base_uri": "https://localhost:8080/"
        },
        "id": "DzHJFMqxXrhH",
        "outputId": "621a1315-633a-4065-db26-090e63715dbc"
      },
      "outputs": [
        {
          "name": "stderr",
          "output_type": "stream",
          "text": [
            "CropBox missing from /Page, defaulting to MediaBox\n",
            "CropBox missing from /Page, defaulting to MediaBox\n",
            "CropBox missing from /Page, defaulting to MediaBox\n",
            "CropBox missing from /Page, defaulting to MediaBox\n",
            "CropBox missing from /Page, defaulting to MediaBox\n",
            "CropBox missing from /Page, defaulting to MediaBox\n",
            "CropBox missing from /Page, defaulting to MediaBox\n",
            "CropBox missing from /Page, defaulting to MediaBox\n",
            "CropBox missing from /Page, defaulting to MediaBox\n",
            "CropBox missing from /Page, defaulting to MediaBox\n",
            "CropBox missing from /Page, defaulting to MediaBox\n",
            "CropBox missing from /Page, defaulting to MediaBox\n",
            "CropBox missing from /Page, defaulting to MediaBox\n",
            "CropBox missing from /Page, defaulting to MediaBox\n",
            "CropBox missing from /Page, defaulting to MediaBox\n",
            "CropBox missing from /Page, defaulting to MediaBox\n",
            "CropBox missing from /Page, defaulting to MediaBox\n",
            "CropBox missing from /Page, defaulting to MediaBox\n",
            "CropBox missing from /Page, defaulting to MediaBox\n",
            "CropBox missing from /Page, defaulting to MediaBox\n",
            "CropBox missing from /Page, defaulting to MediaBox\n",
            "CropBox missing from /Page, defaulting to MediaBox\n",
            "CropBox missing from /Page, defaulting to MediaBox\n",
            "CropBox missing from /Page, defaulting to MediaBox\n",
            "CropBox missing from /Page, defaulting to MediaBox\n",
            "CropBox missing from /Page, defaulting to MediaBox\n",
            "CropBox missing from /Page, defaulting to MediaBox\n",
            "CropBox missing from /Page, defaulting to MediaBox\n",
            "CropBox missing from /Page, defaulting to MediaBox\n",
            "CropBox missing from /Page, defaulting to MediaBox\n",
            "CropBox missing from /Page, defaulting to MediaBox\n",
            "CropBox missing from /Page, defaulting to MediaBox\n",
            "CropBox missing from /Page, defaulting to MediaBox\n",
            "CropBox missing from /Page, defaulting to MediaBox\n",
            "CropBox missing from /Page, defaulting to MediaBox\n",
            "CropBox missing from /Page, defaulting to MediaBox\n",
            "CropBox missing from /Page, defaulting to MediaBox\n",
            "CropBox missing from /Page, defaulting to MediaBox\n",
            "CropBox missing from /Page, defaulting to MediaBox\n",
            "CropBox missing from /Page, defaulting to MediaBox\n",
            "CropBox missing from /Page, defaulting to MediaBox\n",
            "CropBox missing from /Page, defaulting to MediaBox\n",
            "CropBox missing from /Page, defaulting to MediaBox\n",
            "CropBox missing from /Page, defaulting to MediaBox\n",
            "CropBox missing from /Page, defaulting to MediaBox\n",
            "CropBox missing from /Page, defaulting to MediaBox\n",
            "CropBox missing from /Page, defaulting to MediaBox\n",
            "CropBox missing from /Page, defaulting to MediaBox\n",
            "CropBox missing from /Page, defaulting to MediaBox\n",
            "CropBox missing from /Page, defaulting to MediaBox\n",
            "CropBox missing from /Page, defaulting to MediaBox\n",
            "CropBox missing from /Page, defaulting to MediaBox\n",
            "CropBox missing from /Page, defaulting to MediaBox\n",
            "CropBox missing from /Page, defaulting to MediaBox\n",
            "CropBox missing from /Page, defaulting to MediaBox\n",
            "CropBox missing from /Page, defaulting to MediaBox\n",
            "CropBox missing from /Page, defaulting to MediaBox\n",
            "CropBox missing from /Page, defaulting to MediaBox\n",
            "CropBox missing from /Page, defaulting to MediaBox\n",
            "CropBox missing from /Page, defaulting to MediaBox\n",
            "CropBox missing from /Page, defaulting to MediaBox\n",
            "CropBox missing from /Page, defaulting to MediaBox\n",
            "CropBox missing from /Page, defaulting to MediaBox\n",
            "CropBox missing from /Page, defaulting to MediaBox\n",
            "CropBox missing from /Page, defaulting to MediaBox\n",
            "CropBox missing from /Page, defaulting to MediaBox\n",
            "CropBox missing from /Page, defaulting to MediaBox\n",
            "CropBox missing from /Page, defaulting to MediaBox\n",
            "CropBox missing from /Page, defaulting to MediaBox\n",
            "CropBox missing from /Page, defaulting to MediaBox\n",
            "CropBox missing from /Page, defaulting to MediaBox\n",
            "CropBox missing from /Page, defaulting to MediaBox\n",
            "CropBox missing from /Page, defaulting to MediaBox\n",
            "CropBox missing from /Page, defaulting to MediaBox\n",
            "CropBox missing from /Page, defaulting to MediaBox\n",
            "CropBox missing from /Page, defaulting to MediaBox\n",
            "CropBox missing from /Page, defaulting to MediaBox\n",
            "CropBox missing from /Page, defaulting to MediaBox\n",
            "CropBox missing from /Page, defaulting to MediaBox\n",
            "CropBox missing from /Page, defaulting to MediaBox\n",
            "CropBox missing from /Page, defaulting to MediaBox\n",
            "CropBox missing from /Page, defaulting to MediaBox\n",
            "CropBox missing from /Page, defaulting to MediaBox\n",
            "CropBox missing from /Page, defaulting to MediaBox\n",
            "CropBox missing from /Page, defaulting to MediaBox\n",
            "CropBox missing from /Page, defaulting to MediaBox\n",
            "CropBox missing from /Page, defaulting to MediaBox\n",
            "CropBox missing from /Page, defaulting to MediaBox\n",
            "CropBox missing from /Page, defaulting to MediaBox\n",
            "CropBox missing from /Page, defaulting to MediaBox\n",
            "CropBox missing from /Page, defaulting to MediaBox\n",
            "CropBox missing from /Page, defaulting to MediaBox\n",
            "CropBox missing from /Page, defaulting to MediaBox\n",
            "CropBox missing from /Page, defaulting to MediaBox\n",
            "CropBox missing from /Page, defaulting to MediaBox\n",
            "CropBox missing from /Page, defaulting to MediaBox\n",
            "CropBox missing from /Page, defaulting to MediaBox\n",
            "CropBox missing from /Page, defaulting to MediaBox\n",
            "CropBox missing from /Page, defaulting to MediaBox\n",
            "CropBox missing from /Page, defaulting to MediaBox\n",
            "CropBox missing from /Page, defaulting to MediaBox\n",
            "CropBox missing from /Page, defaulting to MediaBox\n",
            "CropBox missing from /Page, defaulting to MediaBox\n",
            "CropBox missing from /Page, defaulting to MediaBox\n",
            "CropBox missing from /Page, defaulting to MediaBox\n",
            "CropBox missing from /Page, defaulting to MediaBox\n",
            "CropBox missing from /Page, defaulting to MediaBox\n",
            "CropBox missing from /Page, defaulting to MediaBox\n",
            "CropBox missing from /Page, defaulting to MediaBox\n",
            "CropBox missing from /Page, defaulting to MediaBox\n",
            "CropBox missing from /Page, defaulting to MediaBox\n",
            "CropBox missing from /Page, defaulting to MediaBox\n",
            "CropBox missing from /Page, defaulting to MediaBox\n",
            "CropBox missing from /Page, defaulting to MediaBox\n",
            "CropBox missing from /Page, defaulting to MediaBox\n",
            "CropBox missing from /Page, defaulting to MediaBox\n",
            "CropBox missing from /Page, defaulting to MediaBox\n",
            "CropBox missing from /Page, defaulting to MediaBox\n",
            "CropBox missing from /Page, defaulting to MediaBox\n",
            "CropBox missing from /Page, defaulting to MediaBox\n",
            "CropBox missing from /Page, defaulting to MediaBox\n",
            "CropBox missing from /Page, defaulting to MediaBox\n",
            "CropBox missing from /Page, defaulting to MediaBox\n",
            "CropBox missing from /Page, defaulting to MediaBox\n",
            "CropBox missing from /Page, defaulting to MediaBox\n",
            "CropBox missing from /Page, defaulting to MediaBox\n",
            "CropBox missing from /Page, defaulting to MediaBox\n",
            "CropBox missing from /Page, defaulting to MediaBox\n",
            "CropBox missing from /Page, defaulting to MediaBox\n",
            "CropBox missing from /Page, defaulting to MediaBox\n",
            "CropBox missing from /Page, defaulting to MediaBox\n",
            "CropBox missing from /Page, defaulting to MediaBox\n",
            "CropBox missing from /Page, defaulting to MediaBox\n",
            "CropBox missing from /Page, defaulting to MediaBox\n",
            "CropBox missing from /Page, defaulting to MediaBox\n",
            "CropBox missing from /Page, defaulting to MediaBox\n",
            "CropBox missing from /Page, defaulting to MediaBox\n",
            "CropBox missing from /Page, defaulting to MediaBox\n",
            "CropBox missing from /Page, defaulting to MediaBox\n",
            "CropBox missing from /Page, defaulting to MediaBox\n",
            "CropBox missing from /Page, defaulting to MediaBox\n",
            "CropBox missing from /Page, defaulting to MediaBox\n",
            "CropBox missing from /Page, defaulting to MediaBox\n",
            "CropBox missing from /Page, defaulting to MediaBox\n",
            "CropBox missing from /Page, defaulting to MediaBox\n",
            "CropBox missing from /Page, defaulting to MediaBox\n",
            "CropBox missing from /Page, defaulting to MediaBox\n",
            "CropBox missing from /Page, defaulting to MediaBox\n",
            "CropBox missing from /Page, defaulting to MediaBox\n",
            "CropBox missing from /Page, defaulting to MediaBox\n",
            "CropBox missing from /Page, defaulting to MediaBox\n",
            "CropBox missing from /Page, defaulting to MediaBox\n",
            "CropBox missing from /Page, defaulting to MediaBox\n",
            "CropBox missing from /Page, defaulting to MediaBox\n",
            "CropBox missing from /Page, defaulting to MediaBox\n",
            "CropBox missing from /Page, defaulting to MediaBox\n",
            "CropBox missing from /Page, defaulting to MediaBox\n",
            "CropBox missing from /Page, defaulting to MediaBox\n",
            "CropBox missing from /Page, defaulting to MediaBox\n",
            "CropBox missing from /Page, defaulting to MediaBox\n",
            "CropBox missing from /Page, defaulting to MediaBox\n",
            "CropBox missing from /Page, defaulting to MediaBox\n",
            "CropBox missing from /Page, defaulting to MediaBox\n",
            "CropBox missing from /Page, defaulting to MediaBox\n",
            "CropBox missing from /Page, defaulting to MediaBox\n",
            "CropBox missing from /Page, defaulting to MediaBox\n",
            "CropBox missing from /Page, defaulting to MediaBox\n",
            "CropBox missing from /Page, defaulting to MediaBox\n",
            "CropBox missing from /Page, defaulting to MediaBox\n",
            "CropBox missing from /Page, defaulting to MediaBox\n",
            "CropBox missing from /Page, defaulting to MediaBox\n",
            "CropBox missing from /Page, defaulting to MediaBox\n",
            "CropBox missing from /Page, defaulting to MediaBox\n",
            "CropBox missing from /Page, defaulting to MediaBox\n",
            "CropBox missing from /Page, defaulting to MediaBox\n",
            "CropBox missing from /Page, defaulting to MediaBox\n",
            "CropBox missing from /Page, defaulting to MediaBox\n",
            "CropBox missing from /Page, defaulting to MediaBox\n",
            "CropBox missing from /Page, defaulting to MediaBox\n",
            "CropBox missing from /Page, defaulting to MediaBox\n",
            "CropBox missing from /Page, defaulting to MediaBox\n",
            "CropBox missing from /Page, defaulting to MediaBox\n",
            "CropBox missing from /Page, defaulting to MediaBox\n",
            "CropBox missing from /Page, defaulting to MediaBox\n",
            "CropBox missing from /Page, defaulting to MediaBox\n",
            "CropBox missing from /Page, defaulting to MediaBox\n",
            "CropBox missing from /Page, defaulting to MediaBox\n",
            "CropBox missing from /Page, defaulting to MediaBox\n",
            "CropBox missing from /Page, defaulting to MediaBox\n",
            "CropBox missing from /Page, defaulting to MediaBox\n",
            "CropBox missing from /Page, defaulting to MediaBox\n",
            "CropBox missing from /Page, defaulting to MediaBox\n",
            "CropBox missing from /Page, defaulting to MediaBox\n",
            "CropBox missing from /Page, defaulting to MediaBox\n",
            "CropBox missing from /Page, defaulting to MediaBox\n",
            "CropBox missing from /Page, defaulting to MediaBox\n",
            "CropBox missing from /Page, defaulting to MediaBox\n",
            "CropBox missing from /Page, defaulting to MediaBox\n",
            "CropBox missing from /Page, defaulting to MediaBox\n",
            "CropBox missing from /Page, defaulting to MediaBox\n",
            "CropBox missing from /Page, defaulting to MediaBox\n",
            "CropBox missing from /Page, defaulting to MediaBox\n",
            "CropBox missing from /Page, defaulting to MediaBox\n",
            "CropBox missing from /Page, defaulting to MediaBox\n",
            "CropBox missing from /Page, defaulting to MediaBox\n",
            "CropBox missing from /Page, defaulting to MediaBox\n",
            "CropBox missing from /Page, defaulting to MediaBox\n",
            "CropBox missing from /Page, defaulting to MediaBox\n",
            "CropBox missing from /Page, defaulting to MediaBox\n",
            "CropBox missing from /Page, defaulting to MediaBox\n",
            "CropBox missing from /Page, defaulting to MediaBox\n",
            "CropBox missing from /Page, defaulting to MediaBox\n",
            "CropBox missing from /Page, defaulting to MediaBox\n",
            "CropBox missing from /Page, defaulting to MediaBox\n",
            "CropBox missing from /Page, defaulting to MediaBox\n",
            "CropBox missing from /Page, defaulting to MediaBox\n",
            "CropBox missing from /Page, defaulting to MediaBox\n",
            "CropBox missing from /Page, defaulting to MediaBox\n",
            "CropBox missing from /Page, defaulting to MediaBox\n",
            "CropBox missing from /Page, defaulting to MediaBox\n",
            "CropBox missing from /Page, defaulting to MediaBox\n",
            "CropBox missing from /Page, defaulting to MediaBox\n",
            "CropBox missing from /Page, defaulting to MediaBox\n",
            "CropBox missing from /Page, defaulting to MediaBox\n",
            "CropBox missing from /Page, defaulting to MediaBox\n",
            "CropBox missing from /Page, defaulting to MediaBox\n",
            "CropBox missing from /Page, defaulting to MediaBox\n",
            "CropBox missing from /Page, defaulting to MediaBox\n",
            "CropBox missing from /Page, defaulting to MediaBox\n",
            "CropBox missing from /Page, defaulting to MediaBox\n",
            "CropBox missing from /Page, defaulting to MediaBox\n",
            "CropBox missing from /Page, defaulting to MediaBox\n",
            "CropBox missing from /Page, defaulting to MediaBox\n",
            "CropBox missing from /Page, defaulting to MediaBox\n",
            "CropBox missing from /Page, defaulting to MediaBox\n",
            "CropBox missing from /Page, defaulting to MediaBox\n",
            "CropBox missing from /Page, defaulting to MediaBox\n",
            "CropBox missing from /Page, defaulting to MediaBox\n",
            "CropBox missing from /Page, defaulting to MediaBox\n",
            "CropBox missing from /Page, defaulting to MediaBox\n",
            "CropBox missing from /Page, defaulting to MediaBox\n",
            "CropBox missing from /Page, defaulting to MediaBox\n",
            "CropBox missing from /Page, defaulting to MediaBox\n",
            "CropBox missing from /Page, defaulting to MediaBox\n",
            "CropBox missing from /Page, defaulting to MediaBox\n",
            "CropBox missing from /Page, defaulting to MediaBox\n",
            "CropBox missing from /Page, defaulting to MediaBox\n",
            "CropBox missing from /Page, defaulting to MediaBox\n",
            "CropBox missing from /Page, defaulting to MediaBox\n",
            "CropBox missing from /Page, defaulting to MediaBox\n",
            "CropBox missing from /Page, defaulting to MediaBox\n",
            "CropBox missing from /Page, defaulting to MediaBox\n",
            "CropBox missing from /Page, defaulting to MediaBox\n",
            "CropBox missing from /Page, defaulting to MediaBox\n"
          ]
        },
        {
          "name": "stdout",
          "output_type": "stream",
          "text": [
            "                                               Asset Transaction Type  Date  \\\n",
            "0                                Filing ID #20018054             None  None   \n",
            "1  Alphabet Inc. - Class C Capital Stock P 01/02/...             None  None   \n",
            "2  Amazon.com, Inc. - Common Stock P 01/02/2025 0...             None  None   \n",
            "3  Amazon.com, Inc. - Common Stock P 01/02/2025 0...             None  None   \n",
            "4  Amphenol Corporation Common P 01/02/2025 01/03...             None  None   \n",
            "\n",
            "  Notification Date Amount Source                   File  \n",
            "0              None   None         ptr_pdfs\\20018054.pdf  \n",
            "1              None   None         ptr_pdfs\\20018054.pdf  \n",
            "2              None   None         ptr_pdfs\\20018054.pdf  \n",
            "3              None   None         ptr_pdfs\\20018054.pdf  \n",
            "4              None   None         ptr_pdfs\\20018054.pdf  \n",
            "\n",
            "✅ Extracted 2679 transactions from 166 filings.\n"
          ]
        }
      ],
      "source": [
        "all_ptr_data = extract_all_pdfs_to_dataframe(\"ptr_pdfs\")\n",
        "print(all_ptr_data.head())\n",
        "print(f\"\\n✅ Extracted {len(all_ptr_data)} transactions from {all_ptr_data['File'].nunique()} filings.\")\n"
      ]
    },
    {
      "cell_type": "markdown",
      "metadata": {
        "id": "P9Z7uLJ-aeKi"
      },
      "source": [
        "# Verification of the load"
      ]
    },
    {
      "cell_type": "code",
      "execution_count": 14,
      "metadata": {
        "colab": {
          "base_uri": "https://localhost:8080/",
          "height": 423
        },
        "id": "tayqMJL6Zsch",
        "outputId": "5dcb1693-c57e-4866-fab1-46d281a67ff0"
      },
      "outputs": [
        {
          "data": {
            "text/html": [
              "<div>\n",
              "<style scoped>\n",
              "    .dataframe tbody tr th:only-of-type {\n",
              "        vertical-align: middle;\n",
              "    }\n",
              "\n",
              "    .dataframe tbody tr th {\n",
              "        vertical-align: top;\n",
              "    }\n",
              "\n",
              "    .dataframe thead th {\n",
              "        text-align: right;\n",
              "    }\n",
              "</style>\n",
              "<table border=\"1\" class=\"dataframe\">\n",
              "  <thead>\n",
              "    <tr style=\"text-align: right;\">\n",
              "      <th></th>\n",
              "      <th>Asset</th>\n",
              "      <th>Transaction Type</th>\n",
              "      <th>Date</th>\n",
              "      <th>Notification Date</th>\n",
              "      <th>Amount</th>\n",
              "      <th>Source</th>\n",
              "      <th>File</th>\n",
              "    </tr>\n",
              "  </thead>\n",
              "  <tbody>\n",
              "    <tr>\n",
              "      <th>0</th>\n",
              "      <td>Filing ID #20018054</td>\n",
              "      <td>None</td>\n",
              "      <td>None</td>\n",
              "      <td>None</td>\n",
              "      <td>None</td>\n",
              "      <td></td>\n",
              "      <td>ptr_pdfs\\20018054.pdf</td>\n",
              "    </tr>\n",
              "    <tr>\n",
              "      <th>1</th>\n",
              "      <td>Alphabet Inc. - Class C Capital Stock P 01/02/...</td>\n",
              "      <td>None</td>\n",
              "      <td>None</td>\n",
              "      <td>None</td>\n",
              "      <td>None</td>\n",
              "      <td></td>\n",
              "      <td>ptr_pdfs\\20018054.pdf</td>\n",
              "    </tr>\n",
              "    <tr>\n",
              "      <th>2</th>\n",
              "      <td>Amazon.com, Inc. - Common Stock P 01/02/2025 0...</td>\n",
              "      <td>None</td>\n",
              "      <td>None</td>\n",
              "      <td>None</td>\n",
              "      <td>None</td>\n",
              "      <td></td>\n",
              "      <td>ptr_pdfs\\20018054.pdf</td>\n",
              "    </tr>\n",
              "    <tr>\n",
              "      <th>3</th>\n",
              "      <td>Amazon.com, Inc. - Common Stock P 01/02/2025 0...</td>\n",
              "      <td>None</td>\n",
              "      <td>None</td>\n",
              "      <td>None</td>\n",
              "      <td>None</td>\n",
              "      <td></td>\n",
              "      <td>ptr_pdfs\\20018054.pdf</td>\n",
              "    </tr>\n",
              "    <tr>\n",
              "      <th>4</th>\n",
              "      <td>Amphenol Corporation Common P 01/02/2025 01/03...</td>\n",
              "      <td>None</td>\n",
              "      <td>None</td>\n",
              "      <td>None</td>\n",
              "      <td>None</td>\n",
              "      <td></td>\n",
              "      <td>ptr_pdfs\\20018054.pdf</td>\n",
              "    </tr>\n",
              "    <tr>\n",
              "      <th>...</th>\n",
              "      <td>...</td>\n",
              "      <td>...</td>\n",
              "      <td>...</td>\n",
              "      <td>...</td>\n",
              "      <td>...</td>\n",
              "      <td>...</td>\n",
              "      <td>...</td>\n",
              "    </tr>\n",
              "    <tr>\n",
              "      <th>95</th>\n",
              "      <td>JT Intuit Inc. - Common Stock (INTU) S 01/13/2...</td>\n",
              "      <td>None</td>\n",
              "      <td>None</td>\n",
              "      <td>None</td>\n",
              "      <td>None</td>\n",
              "      <td></td>\n",
              "      <td>ptr_pdfs\\20024346.pdf</td>\n",
              "    </tr>\n",
              "    <tr>\n",
              "      <th>96</th>\n",
              "      <td>Lam Research Corporation - Common P 01/16/2025...</td>\n",
              "      <td>None</td>\n",
              "      <td>None</td>\n",
              "      <td>None</td>\n",
              "      <td>None</td>\n",
              "      <td></td>\n",
              "      <td>ptr_pdfs\\20024346.pdf</td>\n",
              "    </tr>\n",
              "    <tr>\n",
              "      <th>97</th>\n",
              "      <td>JT Lamb Weston Holdings, Inc. Common S 01/13/2...</td>\n",
              "      <td>None</td>\n",
              "      <td>None</td>\n",
              "      <td>None</td>\n",
              "      <td>None</td>\n",
              "      <td></td>\n",
              "      <td>ptr_pdfs\\20024346.pdf</td>\n",
              "    </tr>\n",
              "    <tr>\n",
              "      <th>98</th>\n",
              "      <td>JT Linde plc - Ordinary Shares (LIN) S 01/13/2...</td>\n",
              "      <td>None</td>\n",
              "      <td>None</td>\n",
              "      <td>None</td>\n",
              "      <td>None</td>\n",
              "      <td></td>\n",
              "      <td>ptr_pdfs\\20024346.pdf</td>\n",
              "    </tr>\n",
              "    <tr>\n",
              "      <th>99</th>\n",
              "      <td>Lowe's Companies, Inc. Common S 02/07/2025 02/...</td>\n",
              "      <td>None</td>\n",
              "      <td>None</td>\n",
              "      <td>None</td>\n",
              "      <td>None</td>\n",
              "      <td></td>\n",
              "      <td>ptr_pdfs\\20024346.pdf</td>\n",
              "    </tr>\n",
              "  </tbody>\n",
              "</table>\n",
              "<p>100 rows × 7 columns</p>\n",
              "</div>"
            ],
            "text/plain": [
              "                                                Asset Transaction Type  Date  \\\n",
              "0                                 Filing ID #20018054             None  None   \n",
              "1   Alphabet Inc. - Class C Capital Stock P 01/02/...             None  None   \n",
              "2   Amazon.com, Inc. - Common Stock P 01/02/2025 0...             None  None   \n",
              "3   Amazon.com, Inc. - Common Stock P 01/02/2025 0...             None  None   \n",
              "4   Amphenol Corporation Common P 01/02/2025 01/03...             None  None   \n",
              "..                                                ...              ...   ...   \n",
              "95  JT Intuit Inc. - Common Stock (INTU) S 01/13/2...             None  None   \n",
              "96  Lam Research Corporation - Common P 01/16/2025...             None  None   \n",
              "97  JT Lamb Weston Holdings, Inc. Common S 01/13/2...             None  None   \n",
              "98  JT Linde plc - Ordinary Shares (LIN) S 01/13/2...             None  None   \n",
              "99  Lowe's Companies, Inc. Common S 02/07/2025 02/...             None  None   \n",
              "\n",
              "   Notification Date Amount Source                   File  \n",
              "0               None   None         ptr_pdfs\\20018054.pdf  \n",
              "1               None   None         ptr_pdfs\\20018054.pdf  \n",
              "2               None   None         ptr_pdfs\\20018054.pdf  \n",
              "3               None   None         ptr_pdfs\\20018054.pdf  \n",
              "4               None   None         ptr_pdfs\\20018054.pdf  \n",
              "..               ...    ...    ...                    ...  \n",
              "95              None   None         ptr_pdfs\\20024346.pdf  \n",
              "96              None   None         ptr_pdfs\\20024346.pdf  \n",
              "97              None   None         ptr_pdfs\\20024346.pdf  \n",
              "98              None   None         ptr_pdfs\\20024346.pdf  \n",
              "99              None   None         ptr_pdfs\\20024346.pdf  \n",
              "\n",
              "[100 rows x 7 columns]"
            ]
          },
          "execution_count": 14,
          "metadata": {},
          "output_type": "execute_result"
        }
      ],
      "source": [
        "all_ptr_data.head(100)\n"
      ]
    },
    {
      "cell_type": "code",
      "execution_count": null,
      "metadata": {
        "id": "97cvNAdmJp6m"
      },
      "outputs": [],
      "source": [
        "# sending to csv and verifying with excel just to see all of the data at once\n",
        "all_ptr_data.to_csv(\"all_ptr_data.csv\", index=False)\n"
      ]
    },
    {
      "cell_type": "code",
      "execution_count": 16,
      "metadata": {
        "colab": {
          "base_uri": "https://localhost:8080/"
        },
        "id": "0wU0JHBRT92A",
        "outputId": "cfcc4dac-e8ea-41ed-af88-74d508211642"
      },
      "outputs": [
        {
          "name": "stdout",
          "output_type": "stream",
          "text": [
            "Transaction Type\n",
            "P              1284\n",
            "S               870\n",
            "S (partial)     359\n",
            "None            166\n",
            "Name: count, dtype: int64\n"
          ]
        }
      ],
      "source": [
        "import pandas as pd\n",
        "import re\n",
        "\n",
        "# Load the CSV\n",
        "df = pd.read_csv(\"all_ptr_data.csv\")\n",
        "\n",
        "# Function to extract fields\n",
        "def extract_transaction_info(asset_str):\n",
        "    if not isinstance(asset_str, str):\n",
        "        return pd.Series([None, None, None, None, asset_str])\n",
        "\n",
        "    # Regex for full match of P, S, S (partial), Date, Notification Date, Amount\n",
        "    match = re.search(\n",
        "        r\"\\b(S \\(partial\\)|S|P)\\s+(\\d{2}/\\d{2}/\\d{4})\\s+(\\d{2}/\\d{2}/\\d{4})\\s+(\\$[\\d,]+(?:\\s*-\\s*\\$[\\d,]+)?)\",\n",
        "        asset_str\n",
        "    )\n",
        "\n",
        "    if match:\n",
        "        trans_type, date, notify_date, amount = match.groups()\n",
        "        asset_cleaned = asset_str[:match.start()].strip()\n",
        "    else:\n",
        "        trans_type = date = notify_date = amount = None\n",
        "        asset_cleaned = asset_str.strip()\n",
        "\n",
        "    return pd.Series([asset_cleaned, trans_type, date, notify_date, amount])\n",
        "\n",
        "# Apply extraction function\n",
        "df[[\"Asset\", \"Transaction Type\", \"Date\", \"Notification Date\", \"Amount\"]] = df[\"Asset\"].apply(extract_transaction_info)\n",
        "\n",
        "# Parse amount into min/max\n",
        "def parse_amount_range(amount_str):\n",
        "    if pd.isna(amount_str):\n",
        "        return None, None\n",
        "    matches = [int(val.replace(\",\", \"\")) for val in re.findall(r\"\\$([\\d,]+)\", amount_str)]\n",
        "    if len(matches) == 1:\n",
        "        return matches[0], matches[0]\n",
        "    elif len(matches) == 2:\n",
        "        return matches[0], matches[1]\n",
        "    return None, None\n",
        "\n",
        "df[[\"minimum\", \"maximum\"]] = df[\"Amount\"].apply(lambda x: pd.Series(parse_amount_range(x)))\n",
        "\n",
        "# Final cleaned DataFrame\n",
        "df_cleaned = df.copy()\n",
        "\n",
        "# Save cleaned result\n",
        "df_cleaned.to_csv(\"ptr_transactions_cleaned.csv\", index=False)\n",
        "\n",
        "# Show a check\n",
        "print(df_cleaned[\"Transaction Type\"].value_counts(dropna=False))\n",
        "\n"
      ]
    },
    {
      "cell_type": "code",
      "execution_count": null,
      "metadata": {
        "colab": {
          "base_uri": "https://localhost:8080/",
          "height": 423
        },
        "id": "vg8AOmAlao6r",
        "outputId": "b69a6137-f5a6-457c-f6dc-5e5d8f209091"
      },
      "outputs": [
        {
          "data": {
            "text/html": [
              "<div>\n",
              "<style scoped>\n",
              "    .dataframe tbody tr th:only-of-type {\n",
              "        vertical-align: middle;\n",
              "    }\n",
              "\n",
              "    .dataframe tbody tr th {\n",
              "        vertical-align: top;\n",
              "    }\n",
              "\n",
              "    .dataframe thead th {\n",
              "        text-align: right;\n",
              "    }\n",
              "</style>\n",
              "<table border=\"1\" class=\"dataframe\">\n",
              "  <thead>\n",
              "    <tr style=\"text-align: right;\">\n",
              "      <th></th>\n",
              "      <th>Asset</th>\n",
              "      <th>Transaction Type</th>\n",
              "      <th>Date</th>\n",
              "      <th>Notification Date</th>\n",
              "      <th>Amount</th>\n",
              "      <th>Source</th>\n",
              "      <th>File</th>\n",
              "      <th>minimum</th>\n",
              "      <th>maximum</th>\n",
              "    </tr>\n",
              "  </thead>\n",
              "  <tbody>\n",
              "    <tr>\n",
              "      <th>0</th>\n",
              "      <td>Filing ID #20018054</td>\n",
              "      <td>None</td>\n",
              "      <td>None</td>\n",
              "      <td>None</td>\n",
              "      <td>None</td>\n",
              "      <td>NaN</td>\n",
              "      <td>ptr_pdfs\\20018054.pdf</td>\n",
              "      <td>NaN</td>\n",
              "      <td>NaN</td>\n",
              "    </tr>\n",
              "    <tr>\n",
              "      <th>1</th>\n",
              "      <td>Alphabet Inc. - Class C Capital Stock</td>\n",
              "      <td>P</td>\n",
              "      <td>01/02/2025</td>\n",
              "      <td>01/03/2025</td>\n",
              "      <td>$1,001 - $15,000</td>\n",
              "      <td>NaN</td>\n",
              "      <td>ptr_pdfs\\20018054.pdf</td>\n",
              "      <td>1001.0</td>\n",
              "      <td>15000.0</td>\n",
              "    </tr>\n",
              "    <tr>\n",
              "      <th>2</th>\n",
              "      <td>Amazon.com, Inc. - Common Stock</td>\n",
              "      <td>P</td>\n",
              "      <td>01/02/2025</td>\n",
              "      <td>01/05/2025</td>\n",
              "      <td>$1,001 - $15,000</td>\n",
              "      <td>NaN</td>\n",
              "      <td>ptr_pdfs\\20018054.pdf</td>\n",
              "      <td>1001.0</td>\n",
              "      <td>15000.0</td>\n",
              "    </tr>\n",
              "    <tr>\n",
              "      <th>3</th>\n",
              "      <td>Amazon.com, Inc. - Common Stock</td>\n",
              "      <td>P</td>\n",
              "      <td>01/02/2025</td>\n",
              "      <td>01/03/2025</td>\n",
              "      <td>$1,001 - $15,000</td>\n",
              "      <td>NaN</td>\n",
              "      <td>ptr_pdfs\\20018054.pdf</td>\n",
              "      <td>1001.0</td>\n",
              "      <td>15000.0</td>\n",
              "    </tr>\n",
              "    <tr>\n",
              "      <th>4</th>\n",
              "      <td>Amphenol Corporation Common</td>\n",
              "      <td>P</td>\n",
              "      <td>01/02/2025</td>\n",
              "      <td>01/03/2025</td>\n",
              "      <td>$1,001 - $15,000</td>\n",
              "      <td>NaN</td>\n",
              "      <td>ptr_pdfs\\20018054.pdf</td>\n",
              "      <td>1001.0</td>\n",
              "      <td>15000.0</td>\n",
              "    </tr>\n",
              "    <tr>\n",
              "      <th>...</th>\n",
              "      <td>...</td>\n",
              "      <td>...</td>\n",
              "      <td>...</td>\n",
              "      <td>...</td>\n",
              "      <td>...</td>\n",
              "      <td>...</td>\n",
              "      <td>...</td>\n",
              "      <td>...</td>\n",
              "      <td>...</td>\n",
              "    </tr>\n",
              "    <tr>\n",
              "      <th>2674</th>\n",
              "      <td>Vinci SA ADR (VCISY) [ST]</td>\n",
              "      <td>S</td>\n",
              "      <td>04/21/2025</td>\n",
              "      <td>04/28/2025</td>\n",
              "      <td>$1,001 - $15,000</td>\n",
              "      <td>S</td>\n",
              "      <td>ptr_pdfs\\20030332.pdf</td>\n",
              "      <td>1001.0</td>\n",
              "      <td>15000.0</td>\n",
              "    </tr>\n",
              "    <tr>\n",
              "      <th>2675</th>\n",
              "      <td>Visa Inc. (V) [ST]</td>\n",
              "      <td>S</td>\n",
              "      <td>04/21/2025</td>\n",
              "      <td>04/28/2025</td>\n",
              "      <td>$1,001 - $15,000</td>\n",
              "      <td>S</td>\n",
              "      <td>ptr_pdfs\\20030332.pdf</td>\n",
              "      <td>1001.0</td>\n",
              "      <td>15000.0</td>\n",
              "    </tr>\n",
              "    <tr>\n",
              "      <th>2676</th>\n",
              "      <td>Walmart Inc. Common Stock (WMT)</td>\n",
              "      <td>S</td>\n",
              "      <td>04/21/2025</td>\n",
              "      <td>04/28/2025</td>\n",
              "      <td>$1,001 - $15,000</td>\n",
              "      <td>S</td>\n",
              "      <td>ptr_pdfs\\20030332.pdf</td>\n",
              "      <td>1001.0</td>\n",
              "      <td>15000.0</td>\n",
              "    </tr>\n",
              "    <tr>\n",
              "      <th>2677</th>\n",
              "      <td>Filing ID #20030336</td>\n",
              "      <td>None</td>\n",
              "      <td>None</td>\n",
              "      <td>None</td>\n",
              "      <td>None</td>\n",
              "      <td>NaN</td>\n",
              "      <td>ptr_pdfs\\20030336.pdf</td>\n",
              "      <td>NaN</td>\n",
              "      <td>NaN</td>\n",
              "    </tr>\n",
              "    <tr>\n",
              "      <th>2678</th>\n",
              "      <td>2000137143 Netflix, Inc. - Common Stock</td>\n",
              "      <td>S</td>\n",
              "      <td>04/17/2025</td>\n",
              "      <td>04/17/2025</td>\n",
              "      <td>$1,001 - $15,000</td>\n",
              "      <td>NaN</td>\n",
              "      <td>ptr_pdfs\\20030336.pdf</td>\n",
              "      <td>1001.0</td>\n",
              "      <td>15000.0</td>\n",
              "    </tr>\n",
              "  </tbody>\n",
              "</table>\n",
              "<p>2679 rows × 9 columns</p>\n",
              "</div>"
            ],
            "text/plain": [
              "                                        Asset Transaction Type        Date  \\\n",
              "0                         Filing ID #20018054             None        None   \n",
              "1       Alphabet Inc. - Class C Capital Stock                P  01/02/2025   \n",
              "2             Amazon.com, Inc. - Common Stock                P  01/02/2025   \n",
              "3             Amazon.com, Inc. - Common Stock                P  01/02/2025   \n",
              "4                 Amphenol Corporation Common                P  01/02/2025   \n",
              "...                                       ...              ...         ...   \n",
              "2674                Vinci SA ADR (VCISY) [ST]                S  04/21/2025   \n",
              "2675                       Visa Inc. (V) [ST]                S  04/21/2025   \n",
              "2676          Walmart Inc. Common Stock (WMT)                S  04/21/2025   \n",
              "2677                      Filing ID #20030336             None        None   \n",
              "2678  2000137143 Netflix, Inc. - Common Stock                S  04/17/2025   \n",
              "\n",
              "     Notification Date            Amount Source                   File  \\\n",
              "0                 None              None    NaN  ptr_pdfs\\20018054.pdf   \n",
              "1           01/03/2025  $1,001 - $15,000    NaN  ptr_pdfs\\20018054.pdf   \n",
              "2           01/05/2025  $1,001 - $15,000    NaN  ptr_pdfs\\20018054.pdf   \n",
              "3           01/03/2025  $1,001 - $15,000    NaN  ptr_pdfs\\20018054.pdf   \n",
              "4           01/03/2025  $1,001 - $15,000    NaN  ptr_pdfs\\20018054.pdf   \n",
              "...                ...               ...    ...                    ...   \n",
              "2674        04/28/2025  $1,001 - $15,000      S  ptr_pdfs\\20030332.pdf   \n",
              "2675        04/28/2025  $1,001 - $15,000      S  ptr_pdfs\\20030332.pdf   \n",
              "2676        04/28/2025  $1,001 - $15,000      S  ptr_pdfs\\20030332.pdf   \n",
              "2677              None              None    NaN  ptr_pdfs\\20030336.pdf   \n",
              "2678        04/17/2025  $1,001 - $15,000    NaN  ptr_pdfs\\20030336.pdf   \n",
              "\n",
              "      minimum  maximum  \n",
              "0         NaN      NaN  \n",
              "1      1001.0  15000.0  \n",
              "2      1001.0  15000.0  \n",
              "3      1001.0  15000.0  \n",
              "4      1001.0  15000.0  \n",
              "...       ...      ...  \n",
              "2674   1001.0  15000.0  \n",
              "2675   1001.0  15000.0  \n",
              "2676   1001.0  15000.0  \n",
              "2677      NaN      NaN  \n",
              "2678   1001.0  15000.0  \n",
              "\n",
              "[2679 rows x 9 columns]"
            ]
          },
          "execution_count": 19,
          "metadata": {},
          "output_type": "execute_result"
        }
      ],
      "source": [
        "# verifying structure of df_cleaned which is the dataframe which will be sent to postresql for further cleaning and analysis\n",
        "df_cleaned\n"
      ]
    },
    {
      "cell_type": "markdown",
      "metadata": {
        "id": "EN7_N36DdHIV"
      },
      "source": [
        "# **Loading into PostreSql**"
      ]
    },
    {
      "cell_type": "code",
      "execution_count": 20,
      "metadata": {},
      "outputs": [],
      "source": [
        "df_cleaned.columns = [col.lower().replace(\" \", \"_\") for col in df_cleaned.columns]"
      ]
    },
    {
      "cell_type": "code",
      "execution_count": null,
      "metadata": {
        "id": "xpzLBharcZUm"
      },
      "outputs": [],
      "source": [
        "from sqlalchemy import create_engine\n",
        "import pandas as pd\n",
        "\n",
        "# Database connection parameters\n",
        "user = \"###############\"\n",
        "password = \"############\"      \n",
        "host = \"############\"              \n",
        "port = \"5432\"                   \n",
        "database = \"#################\"\n",
        "\n",
        "# Create SQLAlchemy engine\n",
        "engine = create_engine(f\"postgresql+psycopg2://{user}:{password}@{host}:{port}/{database}\")\n"
      ]
    },
    {
      "cell_type": "code",
      "execution_count": null,
      "metadata": {
        "id": "HWiC8pUve15l"
      },
      "outputs": [],
      "source": [
        "from sqlalchemy import create_engine\n",
        "\n",
        "engine = create_engine(\n",
        "    \"postgresql+psycopg2://postgres:################@#########:5432/###########\"\n",
        ")\n"
      ]
    },
    {
      "cell_type": "code",
      "execution_count": null,
      "metadata": {
        "colab": {
          "base_uri": "https://localhost:8080/",
          "height": 564
        },
        "id": "xls8hYWIdlxl",
        "outputId": "d4bf4ba4-ceba-4788-c7e0-7007f9941969"
      },
      "outputs": [
        {
          "data": {
            "text/plain": [
              "679"
            ]
          },
          "execution_count": 23,
          "metadata": {},
          "output_type": "execute_result"
        }
      ],
      "source": [
        "df_cleaned.to_sql(\n",
        "    \"ptr_transactions\",\n",
        "    engine,\n",
        "    if_exists=\"replace\",  \n",
        "    index=False\n",
        ")\n"
      ]
    },
    {
      "cell_type": "code",
      "execution_count": 24,
      "metadata": {},
      "outputs": [],
      "source": [
        "engine.dispose()"
      ]
    }
  ],
  "metadata": {
    "colab": {
      "provenance": []
    },
    "kernelspec": {
      "display_name": "Python 3",
      "name": "python3"
    },
    "language_info": {
      "codemirror_mode": {
        "name": "ipython",
        "version": 3
      },
      "file_extension": ".py",
      "mimetype": "text/x-python",
      "name": "python",
      "nbconvert_exporter": "python",
      "pygments_lexer": "ipython3",
      "version": "3.13.3"
    }
  },
  "nbformat": 4,
  "nbformat_minor": 0
}
